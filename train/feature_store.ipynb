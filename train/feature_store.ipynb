{
 "cells": [
  {
   "cell_type": "code",
   "execution_count": 1,
   "metadata": {},
   "outputs": [],
   "source": [
    "import pandas as pd"
   ]
  },
  {
   "cell_type": "code",
   "execution_count": null,
   "metadata": {},
   "outputs": [],
   "source": [
    "df_clubs_profile = pd.read_parquet(\"s3://tech-challenge-3-models/pre-processing/ClubsProfile/clubs_profile.parquet\")\n",
    "df_players_profile = pd.read_parquet(\"s3://tech-challenge-3-models/pre-processing/PlayersProfile/players_profile.parquet\")\n",
    "df_players_stats = pd.read_parquet(\"s3://tech-challenge-3-models/pre-processing/PlayersStats/players_stats.parquet\")\n",
    "df_players_injuries = pd.read_parquet(\"s3://tech-challenge-3-models/pre-processing/PlayersInjuries/players_injuries.parquet\")"
   ]
  }
 ],
 "metadata": {
  "kernelspec": {
   "display_name": "venv",
   "language": "python",
   "name": "python3"
  },
  "language_info": {
   "codemirror_mode": {
    "name": "ipython",
    "version": 3
   },
   "file_extension": ".py",
   "mimetype": "text/x-python",
   "name": "python",
   "nbconvert_exporter": "python",
   "pygments_lexer": "ipython3",
   "version": "3.11.10"
  }
 },
 "nbformat": 4,
 "nbformat_minor": 2
}
