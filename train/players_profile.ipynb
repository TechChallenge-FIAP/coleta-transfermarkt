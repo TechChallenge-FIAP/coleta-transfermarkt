{
 "cells": [
  {
   "cell_type": "code",
   "execution_count": 55,
   "metadata": {},
   "outputs": [],
   "source": [
    "import pandas as pd\n",
    "import numpy as np"
   ]
  },
  {
   "cell_type": "code",
   "execution_count": 56,
   "metadata": {},
   "outputs": [],
   "source": [
    "pd.set_option('display.max_rows', 200)\n",
    "pd.set_option('display.max_columns', 500)\n",
    "pd.set_option('display.width', 1000)"
   ]
  },
  {
   "cell_type": "code",
   "execution_count": 57,
   "metadata": {},
   "outputs": [],
   "source": [
    "df_players_profile = pd.read_parquet(\"s3://tech-challenge-3-curated/PlayersProfile/\")"
   ]
  },
  {
   "cell_type": "code",
   "execution_count": 58,
   "metadata": {},
   "outputs": [],
   "source": [
    "df_players_profile = df_players_profile[df_players_profile[\"citizenship\"].apply(lambda x: \"Brazil\" in x)]\n",
    "df_players_profile = df_players_profile[df_players_profile[\"is_retired\"] == False]\n",
    "df_players_profile = df_players_profile[~df_players_profile[\"actual_club_id\"].isnull()]\n",
    "df_players_profile = df_players_profile[[\"player_id\", \"age\", \"main_position\", \"foot\", \"actual_club_id\", \"second_position\"]]"
   ]
  },
  {
   "cell_type": "code",
   "execution_count": 59,
   "metadata": {},
   "outputs": [],
   "source": [
    "from sklearn.preprocessing import OneHotEncoder"
   ]
  },
  {
   "cell_type": "code",
   "execution_count": 60,
   "metadata": {},
   "outputs": [],
   "source": [
    "df_players_profile = df_players_profile[~df_players_profile[\"foot\"].isnull()]"
   ]
  },
  {
   "cell_type": "code",
   "execution_count": 61,
   "metadata": {},
   "outputs": [],
   "source": [
    "df_players_profile = df_players_profile[\n",
    "    df_players_profile[\"main_position\"].isin(\n",
    "        [\n",
    "            \"Centre-Forward\",\n",
    "            \"Attacking Midfield\",\n",
    "            \"Central Midfield\",\n",
    "            \"Second Striker\",\n",
    "            \"Right Winger\",\n",
    "            \"Left Winger\",\n",
    "        ]\n",
    "    )\n",
    "]"
   ]
  },
  {
   "cell_type": "code",
   "execution_count": 62,
   "metadata": {},
   "outputs": [],
   "source": [
    "df_players_profile = df_players_profile.reset_index(drop=True)"
   ]
  },
  {
   "cell_type": "code",
   "execution_count": 63,
   "metadata": {},
   "outputs": [],
   "source": [
    "encoder = OneHotEncoder()"
   ]
  },
  {
   "cell_type": "code",
   "execution_count": 64,
   "metadata": {},
   "outputs": [],
   "source": [
    "encoded_data = encoder.fit_transform(df_players_profile[['foot']]).toarray()"
   ]
  },
  {
   "cell_type": "code",
   "execution_count": 65,
   "metadata": {},
   "outputs": [],
   "source": [
    "df_players_profile_encode = pd.DataFrame(encoded_data, columns=encoder.get_feature_names_out(['foot']))"
   ]
  },
  {
   "cell_type": "code",
   "execution_count": 66,
   "metadata": {},
   "outputs": [],
   "source": [
    "df_players_profile = pd.concat([df_players_profile, df_players_profile_encode], axis=1).drop(columns=['foot'])"
   ]
  },
  {
   "cell_type": "code",
   "execution_count": 67,
   "metadata": {},
   "outputs": [],
   "source": [
    "df_players_profile['player_position'] = df_players_profile['second_position'].apply(lambda x: x if x is not None else [])"
   ]
  },
  {
   "cell_type": "code",
   "execution_count": 68,
   "metadata": {},
   "outputs": [],
   "source": [
    "df_players_profile['player_position'] = df_players_profile.apply(\n",
    "    lambda x: np.append([x['main_position']], x[\"player_position\"]),\n",
    "    axis=1\n",
    ")"
   ]
  },
  {
   "cell_type": "code",
   "execution_count": 69,
   "metadata": {},
   "outputs": [],
   "source": [
    "df_players_profile = df_players_profile.drop(columns=[\"main_position\", \"second_position\"])"
   ]
  },
  {
   "cell_type": "code",
   "execution_count": 70,
   "metadata": {},
   "outputs": [],
   "source": [
    "df_players_profile = df_players_profile.explode(\"player_position\")"
   ]
  },
  {
   "cell_type": "code",
   "execution_count": 71,
   "metadata": {},
   "outputs": [],
   "source": [
    "df_players_profile = df_players_profile.reset_index(drop=True)"
   ]
  },
  {
   "cell_type": "code",
   "execution_count": 72,
   "metadata": {},
   "outputs": [],
   "source": [
    "encoded_data = encoder.fit_transform(df_players_profile[['player_position']]).toarray()"
   ]
  },
  {
   "cell_type": "code",
   "execution_count": 73,
   "metadata": {},
   "outputs": [],
   "source": [
    "df_players_profile_encode = pd.DataFrame(encoded_data, columns=encoder.get_feature_names_out(['player_position']))"
   ]
  },
  {
   "cell_type": "code",
   "execution_count": 74,
   "metadata": {},
   "outputs": [],
   "source": [
    "df_players_profile = pd.concat([df_players_profile, df_players_profile_encode], axis=1).drop(columns=['player_position'])"
   ]
  },
  {
   "cell_type": "code",
   "execution_count": 75,
   "metadata": {},
   "outputs": [],
   "source": [
    "df_players_profile = (\n",
    "    df_players_profile.groupby(\n",
    "        [\n",
    "            \"player_id\",\n",
    "            \"age\",\n",
    "            \"actual_club_id\",\n",
    "            \"foot_both\",\n",
    "            \"foot_left\",\n",
    "            \"foot_right\",\n",
    "        ]\n",
    "    )\n",
    "    .sum()\n",
    "    .reset_index()\n",
    ")"
   ]
  },
  {
   "cell_type": "code",
   "execution_count": 76,
   "metadata": {},
   "outputs": [],
   "source": [
    "df_players_profile.columns = [col.replace(' ', '_').replace('-', '_').lower() for col in df_players_profile.columns]"
   ]
  },
  {
   "cell_type": "code",
   "execution_count": 77,
   "metadata": {},
   "outputs": [],
   "source": [
    "df_players_profile[\"age\"] = df_players_profile[\"age\"].astype(int)"
   ]
  },
  {
   "cell_type": "code",
   "execution_count": 78,
   "metadata": {},
   "outputs": [
    {
     "data": {
      "text/html": [
       "<div>\n",
       "<style scoped>\n",
       "    .dataframe tbody tr th:only-of-type {\n",
       "        vertical-align: middle;\n",
       "    }\n",
       "\n",
       "    .dataframe tbody tr th {\n",
       "        vertical-align: top;\n",
       "    }\n",
       "\n",
       "    .dataframe thead th {\n",
       "        text-align: right;\n",
       "    }\n",
       "</style>\n",
       "<table border=\"1\" class=\"dataframe\">\n",
       "  <thead>\n",
       "    <tr style=\"text-align: right;\">\n",
       "      <th></th>\n",
       "      <th>player_id</th>\n",
       "      <th>age</th>\n",
       "      <th>actual_club_id</th>\n",
       "      <th>foot_both</th>\n",
       "      <th>foot_left</th>\n",
       "      <th>foot_right</th>\n",
       "      <th>player_position_attacking_midfield</th>\n",
       "      <th>player_position_central_midfield</th>\n",
       "      <th>player_position_centre_back</th>\n",
       "      <th>player_position_centre_forward</th>\n",
       "      <th>player_position_defensive_midfield</th>\n",
       "      <th>player_position_left_midfield</th>\n",
       "      <th>player_position_left_winger</th>\n",
       "      <th>player_position_left_back</th>\n",
       "      <th>player_position_right_midfield</th>\n",
       "      <th>player_position_right_winger</th>\n",
       "      <th>player_position_right_back</th>\n",
       "      <th>player_position_second_striker</th>\n",
       "    </tr>\n",
       "  </thead>\n",
       "  <tbody>\n",
       "    <tr>\n",
       "      <th>0</th>\n",
       "      <td>100091</td>\n",
       "      <td>34</td>\n",
       "      <td>7178</td>\n",
       "      <td>0.0</td>\n",
       "      <td>1.0</td>\n",
       "      <td>0.0</td>\n",
       "      <td>1.0</td>\n",
       "      <td>0.0</td>\n",
       "      <td>0.0</td>\n",
       "      <td>0.0</td>\n",
       "      <td>0.0</td>\n",
       "      <td>0.0</td>\n",
       "      <td>1.0</td>\n",
       "      <td>0.0</td>\n",
       "      <td>0.0</td>\n",
       "      <td>1.0</td>\n",
       "      <td>0.0</td>\n",
       "      <td>0.0</td>\n",
       "    </tr>\n",
       "    <tr>\n",
       "      <th>1</th>\n",
       "      <td>1003451</td>\n",
       "      <td>22</td>\n",
       "      <td>967</td>\n",
       "      <td>0.0</td>\n",
       "      <td>1.0</td>\n",
       "      <td>0.0</td>\n",
       "      <td>0.0</td>\n",
       "      <td>0.0</td>\n",
       "      <td>0.0</td>\n",
       "      <td>1.0</td>\n",
       "      <td>0.0</td>\n",
       "      <td>0.0</td>\n",
       "      <td>0.0</td>\n",
       "      <td>0.0</td>\n",
       "      <td>0.0</td>\n",
       "      <td>0.0</td>\n",
       "      <td>0.0</td>\n",
       "      <td>1.0</td>\n",
       "    </tr>\n",
       "    <tr>\n",
       "      <th>2</th>\n",
       "      <td>1003457</td>\n",
       "      <td>20</td>\n",
       "      <td>15063</td>\n",
       "      <td>0.0</td>\n",
       "      <td>0.0</td>\n",
       "      <td>1.0</td>\n",
       "      <td>0.0</td>\n",
       "      <td>0.0</td>\n",
       "      <td>0.0</td>\n",
       "      <td>1.0</td>\n",
       "      <td>0.0</td>\n",
       "      <td>0.0</td>\n",
       "      <td>1.0</td>\n",
       "      <td>0.0</td>\n",
       "      <td>0.0</td>\n",
       "      <td>1.0</td>\n",
       "      <td>0.0</td>\n",
       "      <td>0.0</td>\n",
       "    </tr>\n",
       "    <tr>\n",
       "      <th>3</th>\n",
       "      <td>1004064</td>\n",
       "      <td>21</td>\n",
       "      <td>35499</td>\n",
       "      <td>0.0</td>\n",
       "      <td>0.0</td>\n",
       "      <td>1.0</td>\n",
       "      <td>0.0</td>\n",
       "      <td>1.0</td>\n",
       "      <td>0.0</td>\n",
       "      <td>0.0</td>\n",
       "      <td>1.0</td>\n",
       "      <td>0.0</td>\n",
       "      <td>0.0</td>\n",
       "      <td>0.0</td>\n",
       "      <td>0.0</td>\n",
       "      <td>0.0</td>\n",
       "      <td>1.0</td>\n",
       "      <td>0.0</td>\n",
       "    </tr>\n",
       "    <tr>\n",
       "      <th>4</th>\n",
       "      <td>1004065</td>\n",
       "      <td>24</td>\n",
       "      <td>3876</td>\n",
       "      <td>0.0</td>\n",
       "      <td>0.0</td>\n",
       "      <td>1.0</td>\n",
       "      <td>0.0</td>\n",
       "      <td>0.0</td>\n",
       "      <td>0.0</td>\n",
       "      <td>1.0</td>\n",
       "      <td>0.0</td>\n",
       "      <td>0.0</td>\n",
       "      <td>0.0</td>\n",
       "      <td>0.0</td>\n",
       "      <td>0.0</td>\n",
       "      <td>0.0</td>\n",
       "      <td>0.0</td>\n",
       "      <td>0.0</td>\n",
       "    </tr>\n",
       "    <tr>\n",
       "      <th>...</th>\n",
       "      <td>...</td>\n",
       "      <td>...</td>\n",
       "      <td>...</td>\n",
       "      <td>...</td>\n",
       "      <td>...</td>\n",
       "      <td>...</td>\n",
       "      <td>...</td>\n",
       "      <td>...</td>\n",
       "      <td>...</td>\n",
       "      <td>...</td>\n",
       "      <td>...</td>\n",
       "      <td>...</td>\n",
       "      <td>...</td>\n",
       "      <td>...</td>\n",
       "      <td>...</td>\n",
       "      <td>...</td>\n",
       "      <td>...</td>\n",
       "      <td>...</td>\n",
       "    </tr>\n",
       "    <tr>\n",
       "      <th>1601</th>\n",
       "      <td>997491</td>\n",
       "      <td>21</td>\n",
       "      <td>3197</td>\n",
       "      <td>0.0</td>\n",
       "      <td>0.0</td>\n",
       "      <td>1.0</td>\n",
       "      <td>1.0</td>\n",
       "      <td>1.0</td>\n",
       "      <td>0.0</td>\n",
       "      <td>0.0</td>\n",
       "      <td>1.0</td>\n",
       "      <td>0.0</td>\n",
       "      <td>0.0</td>\n",
       "      <td>0.0</td>\n",
       "      <td>0.0</td>\n",
       "      <td>0.0</td>\n",
       "      <td>0.0</td>\n",
       "      <td>0.0</td>\n",
       "    </tr>\n",
       "    <tr>\n",
       "      <th>1602</th>\n",
       "      <td>997718</td>\n",
       "      <td>22</td>\n",
       "      <td>11086</td>\n",
       "      <td>0.0</td>\n",
       "      <td>0.0</td>\n",
       "      <td>1.0</td>\n",
       "      <td>1.0</td>\n",
       "      <td>0.0</td>\n",
       "      <td>0.0</td>\n",
       "      <td>0.0</td>\n",
       "      <td>0.0</td>\n",
       "      <td>0.0</td>\n",
       "      <td>1.0</td>\n",
       "      <td>0.0</td>\n",
       "      <td>0.0</td>\n",
       "      <td>1.0</td>\n",
       "      <td>0.0</td>\n",
       "      <td>0.0</td>\n",
       "    </tr>\n",
       "    <tr>\n",
       "      <th>1603</th>\n",
       "      <td>997868</td>\n",
       "      <td>22</td>\n",
       "      <td>3348</td>\n",
       "      <td>0.0</td>\n",
       "      <td>1.0</td>\n",
       "      <td>0.0</td>\n",
       "      <td>1.0</td>\n",
       "      <td>0.0</td>\n",
       "      <td>0.0</td>\n",
       "      <td>0.0</td>\n",
       "      <td>0.0</td>\n",
       "      <td>0.0</td>\n",
       "      <td>1.0</td>\n",
       "      <td>0.0</td>\n",
       "      <td>0.0</td>\n",
       "      <td>0.0</td>\n",
       "      <td>0.0</td>\n",
       "      <td>0.0</td>\n",
       "    </tr>\n",
       "    <tr>\n",
       "      <th>1604</th>\n",
       "      <td>99900</td>\n",
       "      <td>34</td>\n",
       "      <td>515</td>\n",
       "      <td>0.0</td>\n",
       "      <td>0.0</td>\n",
       "      <td>1.0</td>\n",
       "      <td>1.0</td>\n",
       "      <td>1.0</td>\n",
       "      <td>0.0</td>\n",
       "      <td>0.0</td>\n",
       "      <td>0.0</td>\n",
       "      <td>0.0</td>\n",
       "      <td>0.0</td>\n",
       "      <td>0.0</td>\n",
       "      <td>1.0</td>\n",
       "      <td>0.0</td>\n",
       "      <td>0.0</td>\n",
       "      <td>0.0</td>\n",
       "    </tr>\n",
       "    <tr>\n",
       "      <th>1605</th>\n",
       "      <td>999248</td>\n",
       "      <td>26</td>\n",
       "      <td>32991</td>\n",
       "      <td>0.0</td>\n",
       "      <td>0.0</td>\n",
       "      <td>1.0</td>\n",
       "      <td>1.0</td>\n",
       "      <td>0.0</td>\n",
       "      <td>0.0</td>\n",
       "      <td>0.0</td>\n",
       "      <td>0.0</td>\n",
       "      <td>0.0</td>\n",
       "      <td>0.0</td>\n",
       "      <td>0.0</td>\n",
       "      <td>0.0</td>\n",
       "      <td>0.0</td>\n",
       "      <td>0.0</td>\n",
       "      <td>0.0</td>\n",
       "    </tr>\n",
       "  </tbody>\n",
       "</table>\n",
       "<p>1606 rows × 18 columns</p>\n",
       "</div>"
      ],
      "text/plain": [
       "     player_id  age actual_club_id  foot_both  foot_left  foot_right  player_position_attacking_midfield  player_position_central_midfield  player_position_centre_back  player_position_centre_forward  player_position_defensive_midfield  player_position_left_midfield  player_position_left_winger  player_position_left_back  player_position_right_midfield  player_position_right_winger  player_position_right_back  player_position_second_striker\n",
       "0       100091   34           7178        0.0        1.0         0.0                                 1.0                               0.0                          0.0                             0.0                                 0.0                            0.0                          1.0                        0.0                             0.0                           1.0                         0.0                             0.0\n",
       "1      1003451   22            967        0.0        1.0         0.0                                 0.0                               0.0                          0.0                             1.0                                 0.0                            0.0                          0.0                        0.0                             0.0                           0.0                         0.0                             1.0\n",
       "2      1003457   20          15063        0.0        0.0         1.0                                 0.0                               0.0                          0.0                             1.0                                 0.0                            0.0                          1.0                        0.0                             0.0                           1.0                         0.0                             0.0\n",
       "3      1004064   21          35499        0.0        0.0         1.0                                 0.0                               1.0                          0.0                             0.0                                 1.0                            0.0                          0.0                        0.0                             0.0                           0.0                         1.0                             0.0\n",
       "4      1004065   24           3876        0.0        0.0         1.0                                 0.0                               0.0                          0.0                             1.0                                 0.0                            0.0                          0.0                        0.0                             0.0                           0.0                         0.0                             0.0\n",
       "...        ...  ...            ...        ...        ...         ...                                 ...                               ...                          ...                             ...                                 ...                            ...                          ...                        ...                             ...                           ...                         ...                             ...\n",
       "1601    997491   21           3197        0.0        0.0         1.0                                 1.0                               1.0                          0.0                             0.0                                 1.0                            0.0                          0.0                        0.0                             0.0                           0.0                         0.0                             0.0\n",
       "1602    997718   22          11086        0.0        0.0         1.0                                 1.0                               0.0                          0.0                             0.0                                 0.0                            0.0                          1.0                        0.0                             0.0                           1.0                         0.0                             0.0\n",
       "1603    997868   22           3348        0.0        1.0         0.0                                 1.0                               0.0                          0.0                             0.0                                 0.0                            0.0                          1.0                        0.0                             0.0                           0.0                         0.0                             0.0\n",
       "1604     99900   34            515        0.0        0.0         1.0                                 1.0                               1.0                          0.0                             0.0                                 0.0                            0.0                          0.0                        0.0                             1.0                           0.0                         0.0                             0.0\n",
       "1605    999248   26          32991        0.0        0.0         1.0                                 1.0                               0.0                          0.0                             0.0                                 0.0                            0.0                          0.0                        0.0                             0.0                           0.0                         0.0                             0.0\n",
       "\n",
       "[1606 rows x 18 columns]"
      ]
     },
     "execution_count": 78,
     "metadata": {},
     "output_type": "execute_result"
    }
   ],
   "source": [
    "df_players_profile"
   ]
  },
  {
   "cell_type": "code",
   "execution_count": 79,
   "metadata": {},
   "outputs": [],
   "source": [
    "df_players_profile.to_parquet(\"s3://tech-challenge-3-models/pre-processing/PlayersProfile/players_profile.parquet\")"
   ]
  }
 ],
 "metadata": {
  "kernelspec": {
   "display_name": "venv",
   "language": "python",
   "name": "python3"
  },
  "language_info": {
   "codemirror_mode": {
    "name": "ipython",
    "version": 3
   },
   "file_extension": ".py",
   "mimetype": "text/x-python",
   "name": "python",
   "nbconvert_exporter": "python",
   "pygments_lexer": "ipython3",
   "version": "3.11.10"
  }
 },
 "nbformat": 4,
 "nbformat_minor": 2
}
